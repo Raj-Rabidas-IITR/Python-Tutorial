{
 "cells": [
  {
   "cell_type": "markdown",
   "id": "3c7ff7e1-a48a-4d7f-9f10-aa12adcaf6ae",
   "metadata": {},
   "source": [
    "#### 1. Creating a function"
   ]
  },
  {
   "cell_type": "code",
   "execution_count": 1,
   "id": "a7173133-8f0d-4a99-a903-59dcfca6d04c",
   "metadata": {},
   "outputs": [
    {
     "name": "stdout",
     "output_type": "stream",
     "text": [
      "Area of the rectangle is 50\n",
      "Perimeter of the rectangle is 30\n"
     ]
    }
   ],
   "source": [
    "def calculate_rectangle(length,width):\n",
    "    area= length*width\n",
    "    peri=2*(length+width)\n",
    "\n",
    "    # we can return as a dictionary\n",
    "    return {'area':area,'perimeter':peri}\n",
    "\n",
    "rect=calculate_rectangle(10,width=5)\n",
    "print(\"Area of the rectangle is\",rect['area'])\n",
    "print('Perimeter of the rectangle is',rect['perimeter'])\n"
   ]
  },
  {
   "cell_type": "markdown",
   "id": "6bef0afc-f7a5-47ff-aa60-a7bb917e0196",
   "metadata": {},
   "source": [
    "#### 2. *args"
   ]
  },
  {
   "cell_type": "raw",
   "id": "d529f5ab-4d98-4438-a329-2bc7ab330eb2",
   "metadata": {
    "vscode": {
     "languageId": "raw"
    }
   },
   "source": [
    "A special parameter used in a function definition to handle an unspecified number of arguments\n",
    "*asteriek preceding args is what makes it special\n",
    "NOTE: Arguments are collected into a tuple\n"
   ]
  },
  {
   "cell_type": "code",
   "execution_count": 2,
   "id": "3e7d02a5-0766-45de-93f9-7a6d46dad7b6",
   "metadata": {},
   "outputs": [
    {
     "name": "stdout",
     "output_type": "stream",
     "text": [
      "Math scores is 90\n",
      "Others scores are (20, 49, 54, 78, 32)\n",
      "My final scores are: 81.32\n"
     ]
    }
   ],
   "source": [
    "# Here is the example code for that\n",
    "def final_scores(math,*others):\n",
    "    print(f'Math scores is {math}')\n",
    "    print(f'Others scores are {others}')\n",
    "\n",
    "    other_avg=sum(others)/len(others)\n",
    "    return 0.8*math + 0.2*other_avg #80% weightage of maths and 20% for others\n",
    "# Calling that function\n",
    "\n",
    "score=final_scores(90,20,49,54,78,32)\n",
    "print(\"My final scores are:\",score)"
   ]
  },
  {
   "cell_type": "markdown",
   "id": "3a555478-6933-4f53-8908-df69089a277e",
   "metadata": {},
   "source": [
    "#### 3.**kwargs"
   ]
  },
  {
   "cell_type": "raw",
   "id": "ef2d2c05-e72c-42a0-ba23-fc17d08572ba",
   "metadata": {},
   "source": [
    "1) use to handle an unspecified number of keyword arguments\n",
    "2) This parameter allows you to pass a varibale number of keyword argumnets to a function\n",
    "3) This case arguments are collected as Dictionary"
   ]
  },
  {
   "cell_type": "code",
   "execution_count": 3,
   "id": "d8d1938f-ea58-4653-a3a1-49c0b6f00848",
   "metadata": {},
   "outputs": [
    {
     "name": "stdout",
     "output_type": "stream",
     "text": [
      "Maths score is: 70\n",
      "Others score are: {'science': 100, 'english': 80, 'art': 90}\n"
     ]
    }
   ],
   "source": [
    "# Here is the example code\n",
    "def final_score(math,**others):\n",
    "    print('Maths score is:',math)\n",
    "    print('Others score are:',others)\n",
    "\n",
    "    others_sum=0\n",
    "    for key,val in others.items():\n",
    "        others_sum+=val\n",
    "\n",
    "    others_avg=others_sum/len(others)\n",
    "    return 0.8*math + 0.2*others_avg\n",
    "\n",
    "# Calling the function\n",
    "my_score=final_score(70,science=100,english=80,art=90)\n",
    "# print(\"My final scores are:\",my_score)"
   ]
  },
  {
   "cell_type": "markdown",
   "id": "110849ec-a827-4d26-8832-837c3c6c7943",
   "metadata": {},
   "source": [
    "#### 4. Combining both types of parameters\n"
   ]
  },
  {
   "cell_type": "code",
   "execution_count": 4,
   "id": "f89c71d7-2026-4a3c-8cc5-b0ae0184c271",
   "metadata": {},
   "outputs": [
    {
     "name": "stdout",
     "output_type": "stream",
     "text": [
      ">>>>>>>STUDENT INFO<<<<<<<<<<<<<\n",
      "\n",
      "- Name: Raj rabidas\n",
      "- Test scores: (100, 80, 50, 55)\n",
      "- Other info:\n",
      " > sex:Male\n",
      " > age:18\n",
      " > status:Active\n"
     ]
    }
   ],
   "source": [
    "def student_info(name,*args,**kwargs):\n",
    "    print(f'>>>>>>>STUDENT INFO<<<<<<<<<<<<<\\n')\n",
    "    print(f'- Name: {name}')\n",
    "    print(f'- Test scores: {args}')\n",
    "    print(f'- Other info:')\n",
    "    for key,val in kwargs.items(): # args is a tuple, kwargs is a dictionary\n",
    "        print(f' > {key}:{val}')\n",
    "\n",
    "#calling a function\n",
    "student_info('Raj rabidas',100,80,50,55,sex='Male',age=18,status='Active')"
   ]
  },
  {
   "cell_type": "markdown",
   "id": "607ad329-ea0b-4872-b1f1-a154a6ecbc0c",
   "metadata": {},
   "source": [
    "#### 4. Variable scope: local and global\n"
   ]
  },
  {
   "cell_type": "code",
   "execution_count": 5,
   "id": "33cd5095-0ab9-40c7-8207-abf10cae86f8",
   "metadata": {},
   "outputs": [
    {
     "name": "stdout",
     "output_type": "stream",
     "text": [
      "15\n"
     ]
    }
   ],
   "source": [
    "# global varible : can excess from outside the function\n",
    "# local varible: Varible inside a function, which cannot be acces \n",
    "\n",
    "# to mke a varible global in a function we can do this:\n",
    "\n",
    "var=10 # already in global scope\n",
    "def my_function():\n",
    "    global var\n",
    "    var=15\n",
    "\n",
    "my_function()\n",
    "print(var) # Now it will overwrite and pront 15 "
   ]
  },
  {
   "cell_type": "markdown",
   "id": "66c02216-6b7d-462a-a007-0ab3420a4db6",
   "metadata": {},
   "source": [
    "#### 5. Function as an argument"
   ]
  },
  {
   "cell_type": "code",
   "execution_count": 6,
   "id": "8d3a1aa3-977b-4de5-a1f6-200bb502179d",
   "metadata": {},
   "outputs": [
    {
     "name": "stdout",
     "output_type": "stream",
     "text": [
      "Even numbers : [2, 4, 6]\n"
     ]
    }
   ],
   "source": [
    "# Here example of filter function\n",
    "#Note : filter(<function>,<data>)\n",
    "\n",
    "def is_even(number):\n",
    "    return number%2==0\n",
    "    \n",
    "def cubic(number):\n",
    "    return number**3\n",
    "\n",
    "data=[1,2,3,4,5,6,7]\n",
    "\n",
    "# example of filter function\n",
    "\n",
    "even_data=list(filter(is_even,data)) # NOTE: dont use function, only name of the function\n",
    "\n",
    "print(\"Even numbers :\",even_data)"
   ]
  },
  {
   "cell_type": "code",
   "execution_count": 7,
   "id": "8c96fdb0-a797-443d-848f-bee80d7d6bc0",
   "metadata": {},
   "outputs": [
    {
     "name": "stdout",
     "output_type": "stream",
     "text": [
      "Cubic value of data: [1, 8, 27, 64, 125, 216, 343]\n"
     ]
    }
   ],
   "source": [
    "# Example of map function\n",
    "#Syntax: map(<function_name>,<data>)\n",
    "\n",
    "# example:\n",
    "cubic_data=list(map(cubic,data))\n",
    "print(\"Cubic value of data:\",cubic_data)"
   ]
  },
  {
   "cell_type": "markdown",
   "id": "77f09b5f-4c13-40e7-b9d2-651ca2b5bd36",
   "metadata": {},
   "source": [
    "#### user defined example of function as an argument"
   ]
  },
  {
   "cell_type": "code",
   "execution_count": 8,
   "id": "cacf69dd-638f-4d88-96c2-4f9c8625df28",
   "metadata": {},
   "outputs": [
    {
     "name": "stdout",
     "output_type": "stream",
     "text": [
      "20 add 5=25\n",
      "20 subtract 5=15\n"
     ]
    }
   ],
   "source": [
    "def add(a,b):\n",
    "    return a+b\n",
    "\n",
    "def subtract(a,b):\n",
    "    return a-b\n",
    "\n",
    "def operation(num1,num2,formula):\n",
    "    result=formula(num1,num2)\n",
    "    print(f'{num1} {formula.__name__} {num2}={result}')\n",
    "\n",
    "operation(20,5,add)\n",
    "operation(20,5,subtract)"
   ]
  },
  {
   "cell_type": "markdown",
   "id": "52c41e47-3222-4c3c-b40c-cfd2dab8d84c",
   "metadata": {},
   "source": [
    "#### 6. Function as the return value"
   ]
  },
  {
   "cell_type": "code",
   "execution_count": 9,
   "id": "f89571d4-fb2a-4150-8ff8-5de080ae033c",
   "metadata": {},
   "outputs": [
    {
     "name": "stdout",
     "output_type": "stream",
     "text": [
      "50\n",
      "15\n"
     ]
    }
   ],
   "source": [
    "# fuction that retrun another function\n",
    "def get_operation(operator):\n",
    "    if operator==\"+\":\n",
    "        def add(x,y):\n",
    "            return x+y\n",
    "\n",
    "        return add\n",
    "\n",
    "    elif operator==\"-\":\n",
    "        def subtract(x,y):\n",
    "            return x-y\n",
    "\n",
    "        return subtract\n",
    "\n",
    "    else:\n",
    "        print(\"Invalid operator\")\n",
    "\n",
    "\n",
    "# get the add function\n",
    "add_func=get_operation('+')\n",
    "result=add(20,30)\n",
    "print(result)\n",
    "\n",
    "\n",
    "# get the substract function\n",
    "subtract_func=get_operation('-')\n",
    "result=subtract_func(20,5)\n",
    "print(result)"
   ]
  },
  {
   "cell_type": "markdown",
   "id": "e1fb5f28-5b1b-483d-bc52-9eddc0c5711d",
   "metadata": {},
   "source": [
    "#### 7. Lambda function"
   ]
  },
  {
   "cell_type": "raw",
   "id": "a3866e2c-65f4-4510-b1bb-bb51d6d15c47",
   "metadata": {},
   "source": [
    "lambda arguments: expression\n",
    "arguments: input parameters(if any) that the function will accept\n",
    "expression: what to perform\n",
    "NOTE: the result of the function will EXPLCITILY RETURNED\n"
   ]
  },
  {
   "cell_type": "code",
   "execution_count": 10,
   "id": "e31b757a-81eb-407a-b993-05c78d21ccf8",
   "metadata": {},
   "outputs": [
    {
     "name": "stdout",
     "output_type": "stream",
     "text": [
      "25\n",
      "15\n"
     ]
    }
   ],
   "source": [
    "# example code for lambda function\n",
    "add=lambda a,b : a+b\n",
    "subtract=lambda a,b :a-b\n",
    "\n",
    "a,b=20,5\n",
    "num_add=add(a,b)\n",
    "num_subtract=subtract(a,b)\n",
    "\n",
    "print(num_add)\n",
    "print(num_subtract)"
   ]
  },
  {
   "cell_type": "markdown",
   "id": "34a1c798-7aa1-4346-9efc-c9c3f82abde8",
   "metadata": {},
   "source": [
    "#### 8.More on lambda function"
   ]
  },
  {
   "cell_type": "code",
   "execution_count": 11,
   "id": "25d02a30-7546-4eb8-b1fb-282aa22f0cb0",
   "metadata": {},
   "outputs": [
    {
     "name": "stdout",
     "output_type": "stream",
     "text": [
      "Even numbers are: [2, 4, 6]\n"
     ]
    }
   ],
   "source": [
    "data=[1,2,3,4,5,6,7]\n",
    "even_data=list(filter(lambda x :x%2==0,data))\n",
    "print(\"Even numbers are:\",even_data)"
   ]
  },
  {
   "cell_type": "code",
   "execution_count": 12,
   "id": "9f927205-a656-41de-82bd-1f14dcc5af17",
   "metadata": {},
   "outputs": [
    {
     "name": "stdout",
     "output_type": "stream",
     "text": [
      "List of values of cubic data: [1, 4, 9, 16, 25, 36, 49]\n"
     ]
    }
   ],
   "source": [
    "# Usign map function with lambda\n",
    "\n",
    "cubic_data=list(map(lambda x:x**2,data))\n",
    "print(\"List of values of cubic data:\",cubic_data)"
   ]
  },
  {
   "cell_type": "markdown",
   "id": "ef19ce26-5692-47a2-bdf5-5deecf237773",
   "metadata": {},
   "source": [
    "#### 9.Docstrings"
   ]
  },
  {
   "cell_type": "code",
   "execution_count": 17,
   "id": "8d69bcc2-eda6-4936-9218-4005f22d8eb4",
   "metadata": {},
   "outputs": [
    {
     "data": {
      "text/plain": [
       "\"int([x]) -> integer\\nint(x, base=10) -> integer\\n\\nConvert a number or string to an integer, or return 0 if no arguments\\nare given.  If x is a number, return x.__int__().  For floating point\\nnumbers, this truncates towards zero.\\n\\nIf x is not a number or if base is given, then x must be a string,\\nbytes, or bytearray instance representing an integer literal in the\\ngiven base.  The literal can be preceded by '+' or '-' and be surrounded\\nby whitespace.  The base defaults to 10.  Valid bases are 0 and 2-36.\\nBase 0 means to interpret the base from the string as an integer literal.\\n>>> int('0b100', base=0)\\n4\""
      ]
     },
     "execution_count": 17,
     "metadata": {},
     "output_type": "execute_result"
    }
   ],
   "source": [
    "\"\"\"\n",
    "This module provides utility functions for performing mathematical operations.\n",
    "\"\"\"\n",
    "\n",
    "def add(a, b):\n",
    "    \"\"\"\n",
    "    Add two numbers.\n",
    "\n",
    "    Parameters:\n",
    "    a (int or float): The first number.\n",
    "    b (int or float): The second number.\n",
    "\n",
    "    Returns:\n",
    "    int or float: The sum of a and b.\n",
    "    \"\"\"\n",
    "    return a + b\n",
    "# to access the doc string\n",
    "\n",
    "add(2,3).__doc__"
   ]
  },
  {
   "cell_type": "code",
   "execution_count": null,
   "id": "7a0fedcc-1709-438d-abe5-69a830b5e78f",
   "metadata": {},
   "outputs": [],
   "source": []
  }
 ],
 "metadata": {
  "kernelspec": {
   "display_name": "Python 3 (ipykernel)",
   "language": "python",
   "name": "python3"
  },
  "language_info": {
   "codemirror_mode": {
    "name": "ipython",
    "version": 3
   },
   "file_extension": ".py",
   "mimetype": "text/x-python",
   "name": "python",
   "nbconvert_exporter": "python",
   "pygments_lexer": "ipython3",
   "version": "3.11.5"
  }
 },
 "nbformat": 4,
 "nbformat_minor": 5
}
