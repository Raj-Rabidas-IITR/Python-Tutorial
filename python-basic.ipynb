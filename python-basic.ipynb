{
 "cells": [
  {
   "cell_type": "code",
   "execution_count": 5,
   "id": "960ef493-0bd7-4379-be92-f2eb919c0137",
   "metadata": {},
   "outputs": [
    {
     "name": "stdout",
     "output_type": "stream",
     "text": [
      "3.11.5 (tags/v3.11.5:cce6ba9, Aug 24 2023, 14:38:34) [MSC v.1936 64 bit (AMD64)]\n"
     ]
    }
   ],
   "source": [
    "# Python version control\n",
    "import sys\n",
    "print(sys.version)"
   ]
  },
  {
   "cell_type": "code",
   "execution_count": 8,
   "id": "f45593aa-f5ea-4948-a18c-c86e61293a41",
   "metadata": {},
   "outputs": [
    {
     "name": "stdout",
     "output_type": "stream",
     "text": [
      "3.11\n",
      "<built-in function gettrace>\n",
      "['C:\\\\Users\\\\rajra\\\\AppData\\\\Local\\\\Programs\\\\Python\\\\Python311\\\\Lib\\\\site-packages\\\\ipykernel_launcher.py', '-f', 'C:\\\\Users\\\\rajra\\\\AppData\\\\Roaming\\\\jupyter\\\\runtime\\\\kernel-c4e55f57-cf92-4fff-a1cd-cb74e33eeffe.json']\n"
     ]
    }
   ],
   "source": [
    "#Version numberof the python DLL\n",
    "print(sys.winver)\n",
    "print(sys.gettrace)\n",
    "print(sys.argv)"
   ]
  },
  {
   "cell_type": "code",
   "execution_count": 10,
   "id": "f246bf3a-c0af-4ac2-8817-bbbd4f80838c",
   "metadata": {},
   "outputs": [
    {
     "name": "stdout",
     "output_type": "stream",
     "text": [
      "Help on built-in module sys:\n",
      "\n",
      "NAME\n",
      "    sys\n",
      "\n",
      "MODULE REFERENCE\n",
      "    https://docs.python.org/3.11/library/sys.html\n",
      "    \n",
      "    The following documentation is automatically generated from the Python\n",
      "    source files.  It may be incomplete, incorrect or include features that\n",
      "    are considered implementation detail and may vary between Python\n",
      "    implementations.  When in doubt, consult the module reference at the\n",
      "    location listed above.\n",
      "\n",
      "DESCRIPTION\n",
      "    This module provides access to some objects used or maintained by the\n",
      "    interpreter and to functions that interact strongly with the interpreter.\n",
      "    \n",
      "    Dynamic objects:\n",
      "    \n",
      "    argv -- command line arguments; argv[0] is the script pathname if known\n",
      "    path -- module search path; path[0] is the script directory, else ''\n",
      "    modules -- dictionary of loaded modules\n",
      "    \n",
      "    displayhook -- called to show results in an interactive session\n",
      "    excepthook -- called to handle any uncaught exception other than SystemExit\n",
      "      To customize printing in an interactive session or to install a custom\n",
      "      top-level exception handler, assign other functions to replace these.\n",
      "    \n",
      "    stdin -- standard input file object; used by input()\n",
      "    stdout -- standard output file object; used by print()\n",
      "    stderr -- standard error object; used for error messages\n",
      "      By assigning other file objects (or objects that behave like files)\n",
      "      to these, it is possible to redirect all of the interpreter's I/O.\n",
      "    \n",
      "    last_type -- type of last uncaught exception\n",
      "    last_value -- value of last uncaught exception\n",
      "    last_traceback -- traceback of last uncaught exception\n",
      "      These three are only available in an interactive session after a\n",
      "      traceback has been printed.\n",
      "    \n",
      "    Static objects:\n",
      "    \n",
      "    builtin_module_names -- tuple of module names built into this interpreter\n",
      "    copyright -- copyright notice pertaining to this interpreter\n",
      "    exec_prefix -- prefix used to find the machine-specific Python library\n",
      "    executable -- absolute path of the executable binary of the Python interpreter\n",
      "    float_info -- a named tuple with information about the float implementation.\n",
      "    float_repr_style -- string indicating the style of repr() output for floats\n",
      "    hash_info -- a named tuple with information about the hash algorithm.\n",
      "    hexversion -- version information encoded as a single integer\n",
      "    implementation -- Python implementation information.\n",
      "    int_info -- a named tuple with information about the int implementation.\n",
      "    maxsize -- the largest supported length of containers.\n",
      "    maxunicode -- the value of the largest Unicode code point\n",
      "    platform -- platform identifier\n",
      "    prefix -- prefix used to find the Python library\n",
      "    thread_info -- a named tuple with information about the thread implementation.\n",
      "    version -- the version of this interpreter as a string\n",
      "    version_info -- version information as a named tuple\n",
      "    dllhandle -- [Windows only] integer handle of the Python DLL\n",
      "    winver -- [Windows only] version number of the Python DLL\n",
      "    _enablelegacywindowsfsencoding -- [Windows only]\n",
      "    __stdin__ -- the original stdin; don't touch!\n",
      "    __stdout__ -- the original stdout; don't touch!\n",
      "    __stderr__ -- the original stderr; don't touch!\n",
      "    __displayhook__ -- the original displayhook; don't touch!\n",
      "    __excepthook__ -- the original excepthook; don't touch!\n",
      "    \n",
      "    Functions:\n",
      "    \n",
      "    displayhook() -- print an object to the screen, and save it in builtins._\n",
      "    excepthook() -- print an exception and its traceback to sys.stderr\n",
      "    exception() -- return the current thread's active exception\n",
      "    exc_info() -- return information about the current thread's active exception\n",
      "    exit() -- exit the interpreter by raising SystemExit\n",
      "    getdlopenflags() -- returns flags to be used for dlopen() calls\n",
      "    getprofile() -- get the global profiling function\n",
      "    getrefcount() -- return the reference count for an object (plus one :-)\n",
      "    getrecursionlimit() -- return the max recursion depth for the interpreter\n",
      "    getsizeof() -- return the size of an object in bytes\n",
      "    gettrace() -- get the global debug tracing function\n",
      "    setdlopenflags() -- set the flags to be used for dlopen() calls\n",
      "    setprofile() -- set the global profiling function\n",
      "    setrecursionlimit() -- set the max recursion depth for the interpreter\n",
      "    settrace() -- set the global debug tracing function\n",
      "\n",
      "FUNCTIONS\n",
      "    __breakpointhook__ = breakpointhook(...)\n",
      "        breakpointhook(*args, **kws)\n",
      "        \n",
      "        This hook function is called by built-in breakpoint().\n",
      "    \n",
      "    __displayhook__ = displayhook(object, /)\n",
      "        Print an object to sys.stdout and also save it in builtins._\n",
      "    \n",
      "    __excepthook__ = excepthook(exctype, value, traceback, /)\n",
      "        Handle an exception by displaying it with a traceback on sys.stderr.\n",
      "    \n",
      "    __unraisablehook__ = unraisablehook(unraisable, /)\n",
      "        Handle an unraisable exception.\n",
      "        \n",
      "        The unraisable argument has the following attributes:\n",
      "        \n",
      "        * exc_type: Exception type.\n",
      "        * exc_value: Exception value, can be None.\n",
      "        * exc_traceback: Exception traceback, can be None.\n",
      "        * err_msg: Error message, can be None.\n",
      "        * object: Object causing the exception, can be None.\n",
      "    \n",
      "    addaudithook(hook)\n",
      "        Adds a new audit hook callback.\n",
      "    \n",
      "    audit(...)\n",
      "        audit(event, *args)\n",
      "        \n",
      "        Passes the event to any audit hooks that are attached.\n",
      "    \n",
      "    call_tracing(func, args, /)\n",
      "        Call func(*args), while tracing is enabled.\n",
      "        \n",
      "        The tracing state is saved, and restored afterwards.  This is intended\n",
      "        to be called from a debugger from a checkpoint, to recursively debug\n",
      "        some other code.\n",
      "    \n",
      "    exc_info()\n",
      "        Return current exception information: (type, value, traceback).\n",
      "        \n",
      "        Return information about the most recent exception caught by an except\n",
      "        clause in the current stack frame or in an older stack frame.\n",
      "    \n",
      "    exception()\n",
      "        Return the current exception.\n",
      "        \n",
      "        Return the most recent exception caught by an except clause\n",
      "        in the current stack frame or in an older stack frame, or None\n",
      "        if no such exception exists.\n",
      "    \n",
      "    exit(status=None, /)\n",
      "        Exit the interpreter by raising SystemExit(status).\n",
      "        \n",
      "        If the status is omitted or None, it defaults to zero (i.e., success).\n",
      "        If the status is an integer, it will be used as the system exit status.\n",
      "        If it is another kind of object, it will be printed and the system\n",
      "        exit status will be one (i.e., failure).\n",
      "    \n",
      "    get_asyncgen_hooks()\n",
      "        Return the installed asynchronous generators hooks.\n",
      "        \n",
      "        This returns a namedtuple of the form (firstiter, finalizer).\n",
      "    \n",
      "    get_coroutine_origin_tracking_depth()\n",
      "        Check status of origin tracking for coroutine objects in this thread.\n",
      "    \n",
      "    get_int_max_str_digits()\n",
      "        Return the maximum string digits limit for non-binary int<->str conversions.\n",
      "    \n",
      "    getallocatedblocks()\n",
      "        Return the number of memory blocks currently allocated.\n",
      "    \n",
      "    getdefaultencoding()\n",
      "        Return the current default encoding used by the Unicode implementation.\n",
      "    \n",
      "    getfilesystemencodeerrors()\n",
      "        Return the error mode used Unicode to OS filename conversion.\n",
      "    \n",
      "    getfilesystemencoding()\n",
      "        Return the encoding used to convert Unicode filenames to OS filenames.\n",
      "    \n",
      "    getprofile()\n",
      "        Return the profiling function set with sys.setprofile.\n",
      "        \n",
      "        See the profiler chapter in the library manual.\n",
      "    \n",
      "    getrecursionlimit()\n",
      "        Return the current value of the recursion limit.\n",
      "        \n",
      "        The recursion limit is the maximum depth of the Python interpreter\n",
      "        stack.  This limit prevents infinite recursion from causing an overflow\n",
      "        of the C stack and crashing Python.\n",
      "    \n",
      "    getrefcount(object, /)\n",
      "        Return the reference count of object.\n",
      "        \n",
      "        The count returned is generally one higher than you might expect,\n",
      "        because it includes the (temporary) reference as an argument to\n",
      "        getrefcount().\n",
      "    \n",
      "    getsizeof(...)\n",
      "        getsizeof(object [, default]) -> int\n",
      "        \n",
      "        Return the size of object in bytes.\n",
      "    \n",
      "    getswitchinterval()\n",
      "        Return the current thread switch interval; see sys.setswitchinterval().\n",
      "    \n",
      "    gettrace()\n",
      "        Return the global debug tracing function set with sys.settrace.\n",
      "        \n",
      "        See the debugger chapter in the library manual.\n",
      "    \n",
      "    getwindowsversion()\n",
      "        Return info about the running version of Windows as a named tuple.\n",
      "        \n",
      "        The members are named: major, minor, build, platform, service_pack,\n",
      "        service_pack_major, service_pack_minor, suite_mask, product_type and\n",
      "        platform_version. For backward compatibility, only the first 5 items\n",
      "        are available by indexing. All elements are numbers, except\n",
      "        service_pack and platform_type which are strings, and platform_version\n",
      "        which is a 3-tuple. Platform is always 2. Product_type may be 1 for a\n",
      "        workstation, 2 for a domain controller, 3 for a server.\n",
      "        Platform_version is a 3-tuple containing a version number that is\n",
      "        intended for identifying the OS rather than feature detection.\n",
      "    \n",
      "    intern(string, /)\n",
      "        ``Intern'' the given string.\n",
      "        \n",
      "        This enters the string in the (global) table of interned strings whose\n",
      "        purpose is to speed up dictionary lookups. Return the string itself or\n",
      "        the previously interned string object with the same value.\n",
      "    \n",
      "    is_finalizing()\n",
      "        Return True if Python is exiting.\n",
      "    \n",
      "    set_asyncgen_hooks(...)\n",
      "        set_asyncgen_hooks(* [, firstiter] [, finalizer])\n",
      "        \n",
      "        Set a finalizer for async generators objects.\n",
      "    \n",
      "    set_coroutine_origin_tracking_depth(depth)\n",
      "        Enable or disable origin tracking for coroutine objects in this thread.\n",
      "        \n",
      "        Coroutine objects will track 'depth' frames of traceback information\n",
      "        about where they came from, available in their cr_origin attribute.\n",
      "        \n",
      "        Set a depth of 0 to disable.\n",
      "    \n",
      "    set_int_max_str_digits(maxdigits)\n",
      "        Set the maximum string digits limit for non-binary int<->str conversions.\n",
      "    \n",
      "    setprofile(...)\n",
      "        setprofile(function)\n",
      "        \n",
      "        Set the profiling function.  It will be called on each function call\n",
      "        and return.  See the profiler chapter in the library manual.\n",
      "    \n",
      "    setrecursionlimit(limit, /)\n",
      "        Set the maximum depth of the Python interpreter stack to n.\n",
      "        \n",
      "        This limit prevents infinite recursion from causing an overflow of the C\n",
      "        stack and crashing Python.  The highest possible limit is platform-\n",
      "        dependent.\n",
      "    \n",
      "    setswitchinterval(interval, /)\n",
      "        Set the ideal thread switching delay inside the Python interpreter.\n",
      "        \n",
      "        The actual frequency of switching threads can be lower if the\n",
      "        interpreter executes long sequences of uninterruptible code\n",
      "        (this is implementation-specific and workload-dependent).\n",
      "        \n",
      "        The parameter must represent the desired switching delay in seconds\n",
      "        A typical value is 0.005 (5 milliseconds).\n",
      "    \n",
      "    settrace(...)\n",
      "        settrace(function)\n",
      "        \n",
      "        Set the global debug tracing function.  It will be called on each\n",
      "        function call.  See the debugger chapter in the library manual.\n",
      "    \n",
      "    unraisablehook(unraisable, /)\n",
      "        Handle an unraisable exception.\n",
      "        \n",
      "        The unraisable argument has the following attributes:\n",
      "        \n",
      "        * exc_type: Exception type.\n",
      "        * exc_value: Exception value, can be None.\n",
      "        * exc_traceback: Exception traceback, can be None.\n",
      "        * err_msg: Error message, can be None.\n",
      "        * object: Object causing the exception, can be None.\n",
      "\n",
      "DATA\n",
      "    __stderr__ = <_io.TextIOWrapper name='<stderr>' mode='w' encoding='utf...\n",
      "    __stdin__ = <_io.TextIOWrapper name='<stdin>' mode='r' encoding='cp125...\n",
      "    __stdout__ = <_io.TextIOWrapper name='<stdout>' mode='w' encoding='utf...\n",
      "    api_version = 1013\n",
      "    argv = [r'C:\\Users\\rajra\\AppData\\Local\\Programs\\Python\\Python311\\Lib\\s...\n",
      "    base_exec_prefix = r'C:\\Users\\rajra\\AppData\\Local\\Programs\\Python\\Pyth...\n",
      "    base_prefix = r'C:\\Users\\rajra\\AppData\\Local\\Programs\\Python\\Python311...\n",
      "    builtin_module_names = ('_abc', '_ast', '_bisect', '_blake2', '_codecs...\n",
      "    byteorder = 'little'\n",
      "    copyright = 'Copyright (c) 2001-2023 Python Software Foundati...ematis...\n",
      "    displayhook = <ipykernel.displayhook.ZMQShellDisplayHook object>\n",
      "    dllhandle = 140703708545024\n",
      "    dont_write_bytecode = False\n",
      "    exec_prefix = r'C:\\Users\\rajra\\AppData\\Local\\Programs\\Python\\Python311...\n",
      "    executable = r'C:\\Users\\rajra\\AppData\\Local\\Programs\\Python\\Python311\\...\n",
      "    flags = sys.flags(debug=0, inspect=0, interactive=0, opt...coding=0, s...\n",
      "    float_info = sys.float_info(max=1.7976931348623157e+308, max_...epsilo...\n",
      "    float_repr_style = 'short'\n",
      "    hash_info = sys.hash_info(width=64, modulus=2305843009213693...iphash1...\n",
      "    hexversion = 51054064\n",
      "    implementation = namespace(name='cpython', cache_tag='cpython-311...as...\n",
      "    int_info = sys.int_info(bits_per_digit=30, sizeof_digit=4, ..._str_dig...\n",
      "    last_value = ModuleNotFoundError(\"No module named 'handcalcs'\")\n",
      "    maxsize = 9223372036854775807\n",
      "    maxunicode = 1114111\n",
      "    meta_path = [<_distutils_hack.DistutilsMetaFinder object>, <class '_fr...\n",
      "    modules = {'IPython': <module 'IPython' from 'C:\\\\Users\\\\rajra\\\\AppDat...\n",
      "    orig_argv = [r'C:\\Users\\rajra\\AppData\\Local\\Programs\\Python\\Python311\\...\n",
      "    path = [r'D:\\python programs\\Python-Excel-DataAnalysis\\python-imp', r'...\n",
      "    path_hooks = [<class 'zipimport.zipimporter'>, <function FileFinder.pa...\n",
      "    path_importer_cache = {r'C:\\Users\\rajra\\AppData\\Local\\Programs\\Python\\...\n",
      "    platform = 'win32'\n",
      "    platlibdir = 'DLLs'\n",
      "    prefix = r'C:\\Users\\rajra\\AppData\\Local\\Programs\\Python\\Python311'\n",
      "    ps1 = 'In : '\n",
      "    ps2 = '...: '\n",
      "    ps3 = 'Out: '\n",
      "    pycache_prefix = None\n",
      "    stderr = <ipykernel.iostream.OutStream object>\n",
      "    stdin = <_io.TextIOWrapper name='<stdin>' mode='r' encoding='cp1252'>\n",
      "    stdlib_module_names = frozenset({'__future__', '_abc', '_aix_support',...\n",
      "    stdout = <ipykernel.iostream.OutStream object>\n",
      "    thread_info = sys.thread_info(name='nt', lock=None, version=None)\n",
      "    version = '3.11.5 (tags/v3.11.5:cce6ba9, Aug 24 2023, 14:38:34) [MSC v...\n",
      "    version_info = sys.version_info(major=3, minor=11, micro=5, releaselev...\n",
      "    warnoptions = []\n",
      "    winver = '3.11'\n",
      "\n",
      "FILE\n",
      "    (built-in)\n",
      "\n",
      "\n"
     ]
    }
   ],
   "source": [
    "help(sys) # display the documentation of modules,function,classes,,keywords etc."
   ]
  },
  {
   "cell_type": "code",
   "execution_count": 13,
   "id": "a648533c-d826-4708-9280-78b12ba30772",
   "metadata": {},
   "outputs": [
    {
     "name": "stdout",
     "output_type": "stream",
     "text": [
      "True\n",
      "False\n"
     ]
    }
   ],
   "source": [
    "# boolean datatype\n",
    "print(bool(1)) # returns true\n",
    "print(bool(0)) # return false"
   ]
  },
  {
   "cell_type": "code",
   "execution_count": 15,
   "id": "0d609093-c055-4ae5-baed-21d5b04e6cf0",
   "metadata": {},
   "outputs": [
    {
     "name": "stdout",
     "output_type": "stream",
     "text": [
      "<class 'float'>\n",
      "<class 'bool'>\n"
     ]
    }
   ],
   "source": [
    "# type() function to know the datatype \n",
    "print(type(20.0))\n",
    "print(type(True))"
   ]
  },
  {
   "cell_type": "code",
   "execution_count": 16,
   "id": "7f0b1d17-d083-4849-9328-10d31b04f54f",
   "metadata": {},
   "outputs": [
    {
     "name": "stdout",
     "output_type": "stream",
     "text": [
      "sys.int_info(bits_per_digit=30, sizeof_digit=4, default_max_str_digits=4300, str_digits_check_threshold=640)\n"
     ]
    }
   ],
   "source": [
    "# To obatin the information about 'integer' and float\n",
    "print(sys.int_info)"
   ]
  },
  {
   "cell_type": "code",
   "execution_count": 17,
   "id": "42d66dd8-947d-45ad-809d-1604c9d1b4a2",
   "metadata": {},
   "outputs": [
    {
     "name": "stdout",
     "output_type": "stream",
     "text": [
      "sys.float_info(max=1.7976931348623157e+308, max_exp=1024, max_10_exp=308, min=2.2250738585072014e-308, min_exp=-1021, min_10_exp=-307, dig=15, mant_dig=53, epsilon=2.220446049250313e-16, radix=2, rounds=1)\n"
     ]
    }
   ],
   "source": [
    "print(sys.float_info)"
   ]
  },
  {
   "cell_type": "code",
   "execution_count": 19,
   "id": "e5136bdb-86f1-4b20-b90f-d09ff7a5019f",
   "metadata": {},
   "outputs": [
    {
     "name": "stdout",
     "output_type": "stream",
     "text": [
      "6\n",
      "6.0\n",
      "<class 'float'>\n"
     ]
    }
   ],
   "source": [
    "# Typecasting in python\n",
    "\n",
    "number=6\n",
    "print(str(number))\n",
    "print(float(number))\n",
    "print(type(float(number)))\n",
    "string=str(number)"
   ]
  },
  {
   "cell_type": "code",
   "execution_count": 21,
   "id": "76247fd8-d2f9-4de3-800f-3eab0c60c864",
   "metadata": {},
   "outputs": [
    {
     "data": {
      "text/plain": [
       "'6'"
      ]
     },
     "execution_count": 21,
     "metadata": {},
     "output_type": "execute_result"
    }
   ],
   "source": [
    "string # now it will print the number in string format\n"
   ]
  },
  {
   "cell_type": "code",
   "execution_count": 22,
   "id": "429d131a-d60d-4c45-8578-c7bdd3a7178d",
   "metadata": {},
   "outputs": [
    {
     "name": "stdout",
     "output_type": "stream",
     "text": [
      "3\n"
     ]
    }
   ],
   "source": [
    "num=3.14\n",
    "print(int(num))"
   ]
  },
  {
   "cell_type": "code",
   "execution_count": 24,
   "id": "67df4ef6-7595-4499-b12e-afe208080c2e",
   "metadata": {},
   "outputs": [
    {
     "name": "stdout",
     "output_type": "stream",
     "text": [
      "3.0\n",
      "2\n",
      "<class 'float'>\n",
      "<class 'int'>\n"
     ]
    }
   ],
   "source": [
    "# finding the datatype \n",
    "print(9/3) # Whenever you divide a number it always gives the output as a float number\n",
    "\n",
    "print(9//4) # floor division gives the integer output\n",
    "print(type(9/3))\n",
    "print(type(9//4))"
   ]
  },
  {
   "cell_type": "markdown",
   "id": "77e0bff7-a6b9-4351-826c-b7775f85faad",
   "metadata": {},
   "source": [
    "### Strings "
   ]
  },
  {
   "cell_type": "code",
   "execution_count": 25,
   "id": "d3ad0b52-017c-4a26-b8b1-ac49cbfdabde",
   "metadata": {},
   "outputs": [
    {
     "data": {
      "text/plain": [
       "'Hello world!'"
      ]
     },
     "execution_count": 25,
     "metadata": {},
     "output_type": "execute_result"
    }
   ],
   "source": [
    "\"Hello world!\" # this is a string in python"
   ]
  },
  {
   "cell_type": "code",
   "execution_count": 27,
   "id": "ffacead4-6c23-4f19-bf19-b9e47bb91ac0",
   "metadata": {},
   "outputs": [
    {
     "data": {
      "text/plain": [
       "'hello'"
      ]
     },
     "execution_count": 27,
     "metadata": {},
     "output_type": "execute_result"
    }
   ],
   "source": [
    "# indexing a string\n",
    "message='hello world'\n",
    "message[0:5]"
   ]
  },
  {
   "cell_type": "code",
   "execution_count": 28,
   "id": "2be43218-5a0d-4597-bb1d-6fee16e9dd8b",
   "metadata": {},
   "outputs": [
    {
     "data": {
      "text/plain": [
       "'l'"
      ]
     },
     "execution_count": 28,
     "metadata": {},
     "output_type": "execute_result"
    }
   ],
   "source": [
    "message[9]"
   ]
  },
  {
   "cell_type": "code",
   "execution_count": 29,
   "id": "e5415620-8d38-4bea-95a2-93b20723007c",
   "metadata": {},
   "outputs": [
    {
     "data": {
      "text/plain": [
       "11"
      ]
     },
     "execution_count": 29,
     "metadata": {},
     "output_type": "execute_result"
    }
   ],
   "source": [
    "# to get the number of total  characters including the spaces\n",
    "len(message)"
   ]
  },
  {
   "cell_type": "code",
   "execution_count": 30,
   "id": "c2f18f0f-97ee-418c-8497-0f44b05bb920",
   "metadata": {},
   "outputs": [
    {
     "data": {
      "text/plain": [
       "'world'"
      ]
     },
     "execution_count": 30,
     "metadata": {},
     "output_type": "execute_result"
    }
   ],
   "source": [
    "# Slicing the strings\n",
    "message[6:12]"
   ]
  },
  {
   "cell_type": "code",
   "execution_count": 31,
   "id": "297338c2-968e-4011-9391-b14919823108",
   "metadata": {},
   "outputs": [
    {
     "data": {
      "text/plain": [
       "'hlowrd'"
      ]
     },
     "execution_count": 31,
     "metadata": {},
     "output_type": "execute_result"
    }
   ],
   "source": [
    "message[::2] # here first argument is [start:stop:step]"
   ]
  },
  {
   "cell_type": "code",
   "execution_count": 34,
   "id": "b5ac8e2c-40d7-43ee-bca1-578c63faf283",
   "metadata": {},
   "outputs": [
    {
     "data": {
      "text/plain": [
       "'hello worldhow many peopple  are living on the earth?'"
      ]
     },
     "execution_count": 34,
     "metadata": {},
     "output_type": "execute_result"
    }
   ],
   "source": [
    "# concatenation of strings means adding \n",
    "message=\"hello world\"\n",
    "question=\"how many peopple  are living on the earth?\"\n",
    "statement=message+question\n",
    "statement"
   ]
  },
  {
   "cell_type": "code",
   "execution_count": 36,
   "id": "71375efb-4144-438d-be38-c6ca0e39879b",
   "metadata": {},
   "outputs": [
    {
     "data": {
      "text/plain": [
       "' raj raj raj raj raj raj raj raj raj raj'"
      ]
     },
     "execution_count": 36,
     "metadata": {},
     "output_type": "execute_result"
    }
   ],
   "source": [
    "# printing string mutilple times\n",
    "10*\" raj\""
   ]
  },
  {
   "cell_type": "markdown",
   "id": "f89db731-b559-421f-9a12-cf837596dcea",
   "metadata": {},
   "source": [
    "#### Escape sequence charaters"
   ]
  },
  {
   "cell_type": "code",
   "execution_count": 39,
   "id": "1722721c-bcc1-40ab-bae1-82f4df2fbd48",
   "metadata": {},
   "outputs": [
    {
     "name": "stdout",
     "output_type": "stream",
     "text": [
      "Hello guys! \n",
      "How many people are there\n"
     ]
    }
   ],
   "source": [
    "print(\"Hello guys! \\nHow many people are there\") # Newline character used here"
   ]
  },
  {
   "cell_type": "code",
   "execution_count": 40,
   "id": "dfb49845-b967-4d8f-9059-e1572d508698",
   "metadata": {},
   "outputs": [
    {
     "name": "stdout",
     "output_type": "stream",
     "text": [
      "Hello guys!  \t How many are there\n"
     ]
    }
   ],
   "source": [
    "# Tab escape sequence\n",
    "print(\"Hello guys!  \\t How many are there\")"
   ]
  },
  {
   "cell_type": "code",
   "execution_count": 41,
   "id": "f15bc255-9dc3-43ea-9e61-90a1cbf8df06",
   "metadata": {},
   "outputs": [
    {
     "name": "stdout",
     "output_type": "stream",
     "text": [
      "Hello guys!  \\ How many are there\n"
     ]
    }
   ],
   "source": [
    "# Back slash in a string\n",
    "print(\"Hello guys!  \\\\ How many are there\")"
   ]
  },
  {
   "cell_type": "code",
   "execution_count": 42,
   "id": "328f0ef7-9400-46ca-ad61-2b71ed0c9e05",
   "metadata": {},
   "outputs": [
    {
     "name": "stdout",
     "output_type": "stream",
     "text": [
      "Hello world 1 \\ How many are there\n"
     ]
    }
   ],
   "source": [
    "# r will say python that a string will be show as a raw string\n",
    "print(r\"Hello world 1 \\ How many are there\")"
   ]
  },
  {
   "cell_type": "markdown",
   "id": "b7dfae43-b656-4d32-8756-7333504d69f6",
   "metadata": {},
   "source": [
    "### String operations"
   ]
  },
  {
   "cell_type": "code",
   "execution_count": 50,
   "id": "cddba9bd-0803-4984-8869-143d788be894",
   "metadata": {},
   "outputs": [
    {
     "name": "stdout",
     "output_type": "stream",
     "text": [
      "before uppercase: Hello python!\n",
      "After uppercase: HELLO PYTHON!\n",
      "After lowercase: hello python!\n",
      "Hello Python!\n",
      "Hello python!\n"
     ]
    }
   ],
   "source": [
    "msg= \"Hello python!\"\n",
    "print(\"before uppercase:\",msg)\n",
    "# uppercase the elements \n",
    "msg_upper= msg.upper()\n",
    "\n",
    "print('After uppercase:',msg_upper)\n",
    "\n",
    "# Lowercase the element\n",
    "msg_lower=msg.lower()\n",
    "print('After lowercase:',msg_lower)\n",
    "\n",
    "# convert first letter of string in capital\n",
    "print(msg.title()) # each word has first capital then small\n",
    "print(msg.capitalize()) # only first letter of first word is captital"
   ]
  },
  {
   "cell_type": "code",
   "execution_count": 51,
   "id": "8dd7b514-c2c9-4993-bad9-0a6311c9cf66",
   "metadata": {},
   "outputs": [
    {
     "data": {
      "text/plain": [
       "'Hi python'"
      ]
     },
     "execution_count": 51,
     "metadata": {},
     "output_type": "execute_result"
    }
   ],
   "source": [
    "# replace() method\n",
    "message='Hello python'\n",
    "message_hi=message.replace('Hello','Hi')\n",
    "message_hi"
   ]
  },
  {
   "cell_type": "code",
   "execution_count": 57,
   "id": "69dde9ed-a81c-4240-b52d-6d3dac069532",
   "metadata": {},
   "outputs": [
    {
     "name": "stdout",
     "output_type": "stream",
     "text": [
      "Hello python!\n"
     ]
    },
    {
     "data": {
      "text/plain": [
       "6"
      ]
     },
     "execution_count": 57,
     "metadata": {},
     "output_type": "execute_result"
    }
   ],
   "source": [
    "# find() method application in a string\n",
    "print(msg)\n",
    "msg.find(\"python\") # the output is the index numebr of the first element of the substring\n",
    "# -1 shows that it doesnot exit in the string"
   ]
  },
  {
   "cell_type": "code",
   "execution_count": 60,
   "id": "dd03be4f-8780-4f67-89fe-a9dc5954a717",
   "metadata": {},
   "outputs": [
    {
     "data": {
      "text/plain": [
       "'hello python!'"
      ]
     },
     "execution_count": 60,
     "metadata": {},
     "output_type": "execute_result"
    }
   ],
   "source": [
    "# casefold() method returns a string where all the characteds are in lower case\n",
    "\n",
    "msg.casefold()\n"
   ]
  },
  {
   "cell_type": "code",
   "execution_count": 62,
   "id": "ff95a65f-4020-4a8e-8575-3fc5ef681c60",
   "metadata": {},
   "outputs": [
    {
     "data": {
      "text/plain": [
       "'-------------------Hallo Leute!-------------------'"
      ]
     },
     "execution_count": 62,
     "metadata": {},
     "output_type": "execute_result"
    }
   ],
   "source": [
    "# center() method \n",
    "msg1='Hallo Leute!'\n",
    "msg1.center(50,\"-\")"
   ]
  },
  {
   "cell_type": "code",
   "execution_count": 63,
   "id": "c03d68ae-6d05-48a1-a9a2-3d514a79325e",
   "metadata": {},
   "outputs": [
    {
     "data": {
      "text/plain": [
       "1"
      ]
     },
     "execution_count": 63,
     "metadata": {},
     "output_type": "execute_result"
    }
   ],
   "source": [
    "# count() method return the number of elements with the specified value\n",
    "msg.count(\"p\")"
   ]
  },
  {
   "cell_type": "markdown",
   "id": "1ecf5fcf-dbb7-42d9-a447-e4587d6bc8a2",
   "metadata": {},
   "source": [
    "### 3.List"
   ]
  },
  {
   "cell_type": "raw",
   "id": "48d800d7-76d5-43bd-b4c4-568225369dbf",
   "metadata": {},
   "source": [
    "1) List are ordered\n",
    "2) Lists can contain any arbitrary object\n",
    "3) List elements can be accessed by index\n",
    "4) List can be nested to arbitrary depth\n",
    "5) list are mutable\n",
    "6) Lists are dynamic"
   ]
  },
  {
   "cell_type": "code",
   "execution_count": 2,
   "id": "5d978919-24b1-434f-aba1-5ed22aba934e",
   "metadata": {},
   "outputs": [
    {
     "data": {
      "text/plain": [
       "['python', 13, 35]"
      ]
     },
     "execution_count": 2,
     "metadata": {},
     "output_type": "execute_result"
    }
   ],
   "source": [
    "# indexing \n",
    "list= ['python',13,35]\n",
    "list"
   ]
  },
  {
   "cell_type": "code",
   "execution_count": 4,
   "id": "eec54ece-9c3a-4502-8c29-58e0c7a5a510",
   "metadata": {},
   "outputs": [
    {
     "data": {
      "text/plain": [
       "[13, 35]"
      ]
     },
     "execution_count": 4,
     "metadata": {},
     "output_type": "execute_result"
    }
   ],
   "source": [
    "list[1:3:1]  # indexing is starts from 0"
   ]
  },
  {
   "cell_type": "code",
   "execution_count": 5,
   "id": "2b5b3472-fb59-459b-b3d1-b333a162fac1",
   "metadata": {},
   "outputs": [],
   "source": [
    "# Note: list can contain any datatype element"
   ]
  },
  {
   "cell_type": "markdown",
   "id": "aa209acc-9db9-4659-99aa-844f186a799a",
   "metadata": {},
   "source": [
    "#### List operations"
   ]
  },
  {
   "cell_type": "code",
   "execution_count": 6,
   "id": "dc86a86a-7a10-4617-8961-02cc47578cd0",
   "metadata": {},
   "outputs": [
    {
     "data": {
      "text/plain": [
       "3"
      ]
     },
     "execution_count": 6,
     "metadata": {},
     "output_type": "execute_result"
    }
   ],
   "source": [
    "len(list)"
   ]
  },
  {
   "cell_type": "code",
   "execution_count": 7,
   "id": "54f6d80a-52ba-4a7f-be28-d47972139ece",
   "metadata": {},
   "outputs": [],
   "source": [
    "list.extend(['hello world',1.343])"
   ]
  },
  {
   "cell_type": "code",
   "execution_count": 8,
   "id": "92bffe1b-c542-4800-b25a-593685813047",
   "metadata": {},
   "outputs": [
    {
     "data": {
      "text/plain": [
       "['python', 13, 35, 'hello world', 1.343]"
      ]
     },
     "execution_count": 8,
     "metadata": {},
     "output_type": "execute_result"
    }
   ],
   "source": [
    "list"
   ]
  },
  {
   "cell_type": "code",
   "execution_count": 10,
   "id": "390acaa4-4670-4fa2-b04f-0222c87f11f9",
   "metadata": {},
   "outputs": [],
   "source": [
    "list.append('Raj rabidas')"
   ]
  },
  {
   "cell_type": "code",
   "execution_count": 11,
   "id": "d8cbed27-561b-4c97-b2e8-0c5d58d9c019",
   "metadata": {},
   "outputs": [
    {
     "data": {
      "text/plain": [
       "['python', 13, 35, 'hello world', 1.343, 'Raj rabidas']"
      ]
     },
     "execution_count": 11,
     "metadata": {},
     "output_type": "execute_result"
    }
   ],
   "source": [
    "list"
   ]
  },
  {
   "cell_type": "markdown",
   "id": "00c87c6b-3f9f-4266-a105-9a56a4694f5b",
   "metadata": {},
   "source": [
    "len(), append(), count(), index(), insert(), max(), min(), sum() functions"
   ]
  },
  {
   "cell_type": "code",
   "execution_count": 12,
   "id": "222a993c-00bb-4fda-8efb-df6b0c0ff8b5",
   "metadata": {},
   "outputs": [
    {
     "data": {
      "text/plain": [
       "1"
      ]
     },
     "execution_count": 12,
     "metadata": {},
     "output_type": "execute_result"
    }
   ],
   "source": [
    "#count() function counts the number of occurences iin the list of any element\n",
    "list.count(13)"
   ]
  },
  {
   "cell_type": "code",
   "execution_count": 13,
   "id": "4b3e0c79-a6a9-407a-ab8a-c1d369e1bf3a",
   "metadata": {},
   "outputs": [],
   "source": [
    "list.insert(6,\"Anish\")"
   ]
  },
  {
   "cell_type": "code",
   "execution_count": 14,
   "id": "eb4805cc-3995-4c17-89c0-0b0e75037720",
   "metadata": {},
   "outputs": [
    {
     "data": {
      "text/plain": [
       "['python', 35, 'hello world', 1.343, 'Raj rabidas', 'Anish']"
      ]
     },
     "execution_count": 14,
     "metadata": {},
     "output_type": "execute_result"
    }
   ],
   "source": [
    "# deleting elements using del() function\n",
    "del(list[1])\n",
    "list"
   ]
  },
  {
   "cell_type": "markdown",
   "id": "136d4938-8485-4fb8-adc1-90fe93021958",
   "metadata": {},
   "source": [
    "### Functions of list operation"
   ]
  },
  {
   "cell_type": "code",
   "execution_count": 17,
   "id": "47cfb816-749c-4937-b05c-db69a4a3c7f9",
   "metadata": {},
   "outputs": [
    {
     "data": {
      "text/plain": [
       "['python', 'is', 'a', 'high', 'level', 'programming', 'language']"
      ]
     },
     "execution_count": 17,
     "metadata": {},
     "output_type": "execute_result"
    }
   ],
   "source": [
    "# 1) split() function\n",
    "msg=\"python is a high level programming language\"\n",
    "list=msg.split()\n",
    "list"
   ]
  },
  {
   "cell_type": "code",
   "execution_count": 19,
   "id": "ee44867a-e3ef-4476-833d-9f1cbf1af307",
   "metadata": {},
   "outputs": [
    {
     "data": {
      "text/plain": [
       "['p', 'y', 't', 'h', 'o', 'n']"
      ]
     },
     "execution_count": 19,
     "metadata": {},
     "output_type": "execute_result"
    }
   ],
   "source": [
    "text='p,y,t,h,o,n'\n",
    "L2=text.split(',')\n",
    "L2"
   ]
  },
  {
   "cell_type": "code",
   "execution_count": 21,
   "id": "7e69e7dc-121c-4ec5-871e-b86d481bd416",
   "metadata": {},
   "outputs": [
    {
     "name": "stdout",
     "output_type": "stream",
     "text": [
      "Enter an integer: 23\n"
     ]
    },
    {
     "data": {
      "text/plain": [
       "'23'"
      ]
     },
     "execution_count": 21,
     "metadata": {},
     "output_type": "execute_result"
    }
   ],
   "source": [
    "# input function in pythn\n",
    "number=input('Enter an integer:')\n",
    "number"
   ]
  },
  {
   "cell_type": "code",
   "execution_count": 22,
   "id": "03b500be-6d93-43d0-bee3-9a61b0c63297",
   "metadata": {},
   "outputs": [
    {
     "name": "stdout",
     "output_type": "stream",
     "text": [
      "782.0519187358916\n"
     ]
    }
   ],
   "source": [
    "# eval() function\n",
    "expression='23/443+34*23'\n",
    "print(eval(expression))"
   ]
  },
  {
   "cell_type": "code",
   "execution_count": 26,
   "id": "0ba1141d-ca3b-4b63-aae3-f9725837b66d",
   "metadata": {},
   "outputs": [
    {
     "name": "stdout",
     "output_type": "stream",
     "text": [
      "False\n"
     ]
    }
   ],
   "source": [
    "lis1 = [3.14,1.618]\n",
    "lis2 = [3.14,1.618]\n",
    "print(lis1 is lis2)"
   ]
  },
  {
   "cell_type": "markdown",
   "id": "992a416e-a520-4390-8af2-7c35bc1f2e5a",
   "metadata": {},
   "source": [
    "### Tuples in python\n"
   ]
  },
  {
   "cell_type": "raw",
   "id": "1e2289ec-c7e1-4f53-8ec0-5b9eb7f65cbb",
   "metadata": {},
   "source": [
    "1)Tuples are defined in the same way as lists.\n",
    "2)They are enclosed within parenthesis and not within square braces.\n",
    "3)Tuples are ordered, indexed collections of data.\n",
    "4)Similar to string indices, the first value in the tuple will have the index [0], the second value [1]\n",
    "5)Negative indices are counted from the end of the tuple, just like lists.\n",
    "6)Tuple also has the same structure where commas separate the values.\n",
    "7)Tuples can store duplicate values.\n",
    "8)Tuples allow you to store several data items including string, integer, float in one variable."
   ]
  },
  {
   "cell_type": "code",
   "execution_count": 28,
   "id": "51d1f617-de03-429f-be4d-e94a5d667d5d",
   "metadata": {},
   "outputs": [
    {
     "data": {
      "text/plain": [
       "('Hello',\n",
       " 'Python',\n",
       " 3.14,\n",
       " 1.618,\n",
       " True,\n",
       " False,\n",
       " 32,\n",
       " [1, 2, 3],\n",
       " {1, 2, 3},\n",
       " {'A': 3, 'B': 8},\n",
       " (0, 1))"
      ]
     },
     "execution_count": 28,
     "metadata": {},
     "output_type": "execute_result"
    }
   ],
   "source": [
    "tup = ('Hello', 'Python', 3.14, 1.618, True, False, 32, [1,2,3], {1,2,3}, {'A': 3, 'B': 8}, (0, 1))\n",
    "tup"
   ]
  },
  {
   "cell_type": "code",
   "execution_count": 38,
   "id": "313b4886-3a0c-4143-aa8b-4fdef8b89bf8",
   "metadata": {},
   "outputs": [],
   "source": [
    "# deleting a tuple\n",
    "# del tup\n",
    "# till page-45"
   ]
  },
  {
   "cell_type": "markdown",
   "id": "a43e4483-d29b-4535-9104-d1d211bda19f",
   "metadata": {},
   "source": [
    "###     Try Except method in python"
   ]
  },
  {
   "cell_type": "code",
   "execution_count": 1,
   "id": "8db041f0-a9c2-4537-8976-40372e745f82",
   "metadata": {},
   "outputs": [
    {
     "name": "stdout",
     "output_type": "stream",
     "text": [
      "The code gives a ZeroDivisionError.\n"
     ]
    },
    {
     "ename": "ZeroDivisionError",
     "evalue": "division by zero",
     "output_type": "error",
     "traceback": [
      "\u001b[1;31m---------------------------------------------------------------------------\u001b[0m",
      "\u001b[1;31mZeroDivisionError\u001b[0m                         Traceback (most recent call last)",
      "Cell \u001b[1;32mIn[1], line 5\u001b[0m\n\u001b[0;32m      3\u001b[0m \u001b[38;5;28;01mexcept\u001b[39;00m \u001b[38;5;167;01mZeroDivisionError\u001b[39;00m:\n\u001b[0;32m      4\u001b[0m  \u001b[38;5;28mprint\u001b[39m(\u001b[38;5;124m'\u001b[39m\u001b[38;5;124mThe code gives a ZeroDivisionError.\u001b[39m\u001b[38;5;124m'\u001b[39m)\n\u001b[1;32m----> 5\u001b[0m \u001b[38;5;28mprint\u001b[39m(\u001b[38;5;28;43;01mTrue\u001b[39;49;00m\u001b[38;5;241;43m/\u001b[39;49m\u001b[38;5;28;43;01mFalse\u001b[39;49;00m)\n",
      "\u001b[1;31mZeroDivisionError\u001b[0m: division by zero"
     ]
    }
   ],
   "source": []
  },
  {
   "cell_type": "code",
   "execution_count": null,
   "id": "65eebc80",
   "metadata": {},
   "outputs": [],
   "source": []
  }
 ],
 "metadata": {
  "kernelspec": {
   "display_name": "Python 3 (ipykernel)",
   "language": "python",
   "name": "python3"
  },
  "language_info": {
   "codemirror_mode": {
    "name": "ipython",
    "version": 3
   },
   "file_extension": ".py",
   "mimetype": "text/x-python",
   "name": "python",
   "nbconvert_exporter": "python",
   "pygments_lexer": "ipython3",
   "version": "3.11.5"
  }
 },
 "nbformat": 4,
 "nbformat_minor": 5
}
